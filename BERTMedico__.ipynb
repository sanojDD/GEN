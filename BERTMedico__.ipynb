{
  "nbformat": 4,
  "nbformat_minor": 0,
  "metadata": {
    "colab": {
      "provenance": []
    },
    "kernelspec": {
      "name": "python3",
      "display_name": "Python 3"
    },
    "language_info": {
      "name": "python"
    }
  },
  "cells": [
    {
      "cell_type": "code",
      "execution_count": 1,
      "metadata": {
        "id": "Jjw8qk1AK4jf"
      },
      "outputs": [],
      "source": [
        "!pip install -U sentence-transformers --quiet"
      ]
    },
    {
      "cell_type": "code",
      "source": [
        "!pip install faiss-cpu"
      ],
      "metadata": {
        "colab": {
          "base_uri": "https://localhost:8080/"
        },
        "id": "ZpgG43rzLGkP",
        "outputId": "6ac0b31e-2d1c-4409-8112-5b96361baea8"
      },
      "execution_count": 2,
      "outputs": [
        {
          "output_type": "stream",
          "name": "stdout",
          "text": [
            "Collecting faiss-cpu\n",
            "  Downloading faiss_cpu-1.12.0-cp312-cp312-manylinux_2_27_x86_64.manylinux_2_28_x86_64.whl.metadata (5.1 kB)\n",
            "Requirement already satisfied: numpy<3.0,>=1.25.0 in /usr/local/lib/python3.12/dist-packages (from faiss-cpu) (2.0.2)\n",
            "Requirement already satisfied: packaging in /usr/local/lib/python3.12/dist-packages (from faiss-cpu) (25.0)\n",
            "Downloading faiss_cpu-1.12.0-cp312-cp312-manylinux_2_27_x86_64.manylinux_2_28_x86_64.whl (31.4 MB)\n",
            "\u001b[2K   \u001b[90m━━━━━━━━━━━━━━━━━━━━━━━━━━━━━━━━━━━━━━━━\u001b[0m \u001b[32m31.4/31.4 MB\u001b[0m \u001b[31m57.2 MB/s\u001b[0m eta \u001b[36m0:00:00\u001b[0m\n",
            "\u001b[?25hInstalling collected packages: faiss-cpu\n",
            "Successfully installed faiss-cpu-1.12.0\n"
          ]
        }
      ]
    },
    {
      "cell_type": "code",
      "source": [
        "from transformers import AutoTokenizer, AutoModel\n",
        "\n",
        "import torch\n",
        "import faiss\n",
        "import numpy as np\n",
        "\n",
        "tokenizer = AutoTokenizer.from_pretrained('bert-base-uncased')\n",
        "model = AutoModel.from_pretrained('bert-base-uncased')\n",
        "\n",
        "\n",
        "def get_embeddings(texts):\n",
        "  inputs = tokenizer(texts, return_tensors='pt', padding=True, truncation=True)\n",
        "  with torch.no_grad():\n",
        "    outputs = model(**inputs)\n",
        "    # print(outputs)\n",
        "  return outputs.last_hidden_state[:, 0:].numpy()\n",
        "\n",
        "medical_facts = [\n",
        "    \"Fever and fatigue are symptoms of COVID-19.\",\n",
        "    \"Shortness of breath is a common symptom of asthma.\",\n",
        "    \"Chest pain can indicate a heart attack.\"\n",
        "]\n",
        "\n",
        "# embeddings\n",
        "\n",
        "embeddings = get_embeddings(medical_facts)"
      ],
      "metadata": {
        "collapsed": true,
        "id": "jG0LWI0ZLWU0"
      },
      "execution_count": 22,
      "outputs": []
    },
    {
      "cell_type": "code",
      "source": [
        "embeddings.shape"
      ],
      "metadata": {
        "colab": {
          "base_uri": "https://localhost:8080/"
        },
        "id": "6MxQCpg0NI_H",
        "outputId": "b832fd89-a841-4a43-e895-08ffff892711"
      },
      "execution_count": 23,
      "outputs": [
        {
          "output_type": "execute_result",
          "data": {
            "text/plain": [
              "(3, 15, 768)"
            ]
          },
          "metadata": {},
          "execution_count": 23
        }
      ]
    },
    {
      "cell_type": "code",
      "source": [
        "# FAISS index\n",
        "\n",
        "# The embeddings are currently 3D (num_sentences, num_tokens, embedding_dim)\n",
        "# We need to reshape them to be 2D (num_sentences, embedding_dim) for FAISS\n",
        "# Taking the embedding of the first token (usually the [CLS] token) for each sentence\n",
        "dimensions = embeddings.shape[2] # Use the last dimension for the embedding size\n",
        "index = faiss.IndexFlatL2(dimensions)\n",
        "\n",
        "# Reshape the embeddings to be 2D\n",
        "embeddings_2d = embeddings[:, 0, :]\n",
        "\n",
        "index.add(embeddings_2d)\n",
        "\n",
        "print(f\"FAISS index created with {index.ntotal} vectors of dimension {index.d}\")"
      ],
      "metadata": {
        "colab": {
          "base_uri": "https://localhost:8080/"
        },
        "id": "8D8DBEuMNpqt",
        "outputId": "e076b07b-61cf-462b-cd06-a60103d6bbbc"
      },
      "execution_count": 24,
      "outputs": [
        {
          "output_type": "stream",
          "name": "stdout",
          "text": [
            "FAISS index created with 3 vectors of dimension 768\n"
          ]
        }
      ]
    },
    {
      "cell_type": "code",
      "source": [
        "query = \"symptoms of asthama\"\n",
        "\n",
        "query_embeddings = get_embeddings(query)\n",
        "\n",
        "# faiss index\n",
        "\n",
        "k =2\n",
        "distances, indices = index.search(query_embeddings[:, 0, :], k)\n",
        "retrieved_docs = [medical_facts[i] for i in indices[0]]\n",
        "\n",
        "# print('retrieved documents: ')\n",
        "print(retrieved_docs)"
      ],
      "metadata": {
        "colab": {
          "base_uri": "https://localhost:8080/"
        },
        "id": "obApwj47OD5o",
        "outputId": "27a8f6f6-5d1b-4b63-dc7f-db1dbbb07cd1"
      },
      "execution_count": 27,
      "outputs": [
        {
          "output_type": "stream",
          "name": "stdout",
          "text": [
            "['Shortness of breath is a common symptom of asthma.', 'Fever and fatigue are symptoms of COVID-19.']\n"
          ]
        }
      ]
    },
    {
      "cell_type": "code",
      "source": [],
      "metadata": {
        "id": "JBXTsxfZReMQ"
      },
      "execution_count": null,
      "outputs": []
    }
  ]
}